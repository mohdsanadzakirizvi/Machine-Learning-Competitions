{
 "cells": [
  {
   "cell_type": "code",
   "execution_count": 461,
   "metadata": {
    "collapsed": true,
    "deletable": true,
    "editable": true
   },
   "outputs": [],
   "source": [
    "import pandas as pd\n",
    "import numpy as np\n"
   ]
  },
  {
   "cell_type": "code",
   "execution_count": 140,
   "metadata": {
    "collapsed": true,
    "deletable": true,
    "editable": true
   },
   "outputs": [],
   "source": [
    "train = pd.read_csv(\"train.csv\")\n",
    "testc = pd.read_csv(\"test.csv\")\n",
    "sample = pd.read_csv(\"sample_submission.csv\")"
   ]
  },
  {
   "cell_type": "markdown",
   "metadata": {
    "deletable": true,
    "editable": true
   },
   "source": [
    "## Data Exploration"
   ]
  },
  {
   "cell_type": "code",
   "execution_count": 141,
   "metadata": {
    "collapsed": false,
    "deletable": true,
    "editable": true,
    "scrolled": true
   },
   "outputs": [
    {
     "data": {
      "text/html": [
       "<div>\n",
       "<table border=\"1\" class=\"dataframe\">\n",
       "  <thead>\n",
       "    <tr style=\"text-align: right;\">\n",
       "      <th></th>\n",
       "      <th>PID</th>\n",
       "      <th>Date</th>\n",
       "      <th>Event</th>\n",
       "    </tr>\n",
       "  </thead>\n",
       "  <tbody>\n",
       "    <tr>\n",
       "      <th>0</th>\n",
       "      <td>1028890</td>\n",
       "      <td>201101</td>\n",
       "      <td>2186</td>\n",
       "    </tr>\n",
       "    <tr>\n",
       "      <th>1</th>\n",
       "      <td>1028890</td>\n",
       "      <td>201101</td>\n",
       "      <td>7087</td>\n",
       "    </tr>\n",
       "    <tr>\n",
       "      <th>2</th>\n",
       "      <td>1028890</td>\n",
       "      <td>201101</td>\n",
       "      <td>4848</td>\n",
       "    </tr>\n",
       "    <tr>\n",
       "      <th>3</th>\n",
       "      <td>1028890</td>\n",
       "      <td>201101</td>\n",
       "      <td>2214</td>\n",
       "    </tr>\n",
       "    <tr>\n",
       "      <th>4</th>\n",
       "      <td>1028890</td>\n",
       "      <td>201102</td>\n",
       "      <td>7087</td>\n",
       "    </tr>\n",
       "  </tbody>\n",
       "</table>\n",
       "</div>"
      ],
      "text/plain": [
       "       PID    Date Event\n",
       "0  1028890  201101  2186\n",
       "1  1028890  201101  7087\n",
       "2  1028890  201101  4848\n",
       "3  1028890  201101  2214\n",
       "4  1028890  201102  7087"
      ]
     },
     "execution_count": 141,
     "metadata": {},
     "output_type": "execute_result"
    }
   ],
   "source": [
    "train.head()"
   ]
  },
  {
   "cell_type": "code",
   "execution_count": 142,
   "metadata": {
    "collapsed": false,
    "deletable": true,
    "editable": true
   },
   "outputs": [
    {
     "data": {
      "text/html": [
       "<div>\n",
       "<table border=\"1\" class=\"dataframe\">\n",
       "  <thead>\n",
       "    <tr style=\"text-align: right;\">\n",
       "      <th></th>\n",
       "      <th>PID</th>\n",
       "    </tr>\n",
       "  </thead>\n",
       "  <tbody>\n",
       "    <tr>\n",
       "      <th>0</th>\n",
       "      <td>1028890</td>\n",
       "    </tr>\n",
       "    <tr>\n",
       "      <th>1</th>\n",
       "      <td>1021443</td>\n",
       "    </tr>\n",
       "    <tr>\n",
       "      <th>2</th>\n",
       "      <td>1016194</td>\n",
       "    </tr>\n",
       "    <tr>\n",
       "      <th>3</th>\n",
       "      <td>1017298</td>\n",
       "    </tr>\n",
       "    <tr>\n",
       "      <th>4</th>\n",
       "      <td>1006098</td>\n",
       "    </tr>\n",
       "  </tbody>\n",
       "</table>\n",
       "</div>"
      ],
      "text/plain": [
       "       PID\n",
       "0  1028890\n",
       "1  1021443\n",
       "2  1016194\n",
       "3  1017298\n",
       "4  1006098"
      ]
     },
     "execution_count": 142,
     "metadata": {},
     "output_type": "execute_result"
    }
   ],
   "source": [
    "test.head()"
   ]
  },
  {
   "cell_type": "code",
   "execution_count": 143,
   "metadata": {
    "collapsed": false,
    "deletable": true,
    "editable": true
   },
   "outputs": [
    {
     "data": {
      "text/html": [
       "<div>\n",
       "<table border=\"1\" class=\"dataframe\">\n",
       "  <thead>\n",
       "    <tr style=\"text-align: right;\">\n",
       "      <th></th>\n",
       "      <th>PID</th>\n",
       "      <th>Event1</th>\n",
       "      <th>Event2</th>\n",
       "      <th>Event3</th>\n",
       "      <th>Event4</th>\n",
       "      <th>Event5</th>\n",
       "      <th>Event6</th>\n",
       "      <th>Event7</th>\n",
       "      <th>Event8</th>\n",
       "      <th>Event9</th>\n",
       "      <th>Event10</th>\n",
       "    </tr>\n",
       "  </thead>\n",
       "  <tbody>\n",
       "    <tr>\n",
       "      <th>0</th>\n",
       "      <td>1028890</td>\n",
       "      <td>NaN</td>\n",
       "      <td>NaN</td>\n",
       "      <td>NaN</td>\n",
       "      <td>NaN</td>\n",
       "      <td>NaN</td>\n",
       "      <td>NaN</td>\n",
       "      <td>NaN</td>\n",
       "      <td>NaN</td>\n",
       "      <td>NaN</td>\n",
       "      <td>NaN</td>\n",
       "    </tr>\n",
       "    <tr>\n",
       "      <th>1</th>\n",
       "      <td>1021443</td>\n",
       "      <td>NaN</td>\n",
       "      <td>NaN</td>\n",
       "      <td>NaN</td>\n",
       "      <td>NaN</td>\n",
       "      <td>NaN</td>\n",
       "      <td>NaN</td>\n",
       "      <td>NaN</td>\n",
       "      <td>NaN</td>\n",
       "      <td>NaN</td>\n",
       "      <td>NaN</td>\n",
       "    </tr>\n",
       "    <tr>\n",
       "      <th>2</th>\n",
       "      <td>1016194</td>\n",
       "      <td>NaN</td>\n",
       "      <td>NaN</td>\n",
       "      <td>NaN</td>\n",
       "      <td>NaN</td>\n",
       "      <td>NaN</td>\n",
       "      <td>NaN</td>\n",
       "      <td>NaN</td>\n",
       "      <td>NaN</td>\n",
       "      <td>NaN</td>\n",
       "      <td>NaN</td>\n",
       "    </tr>\n",
       "    <tr>\n",
       "      <th>3</th>\n",
       "      <td>1017298</td>\n",
       "      <td>NaN</td>\n",
       "      <td>NaN</td>\n",
       "      <td>NaN</td>\n",
       "      <td>NaN</td>\n",
       "      <td>NaN</td>\n",
       "      <td>NaN</td>\n",
       "      <td>NaN</td>\n",
       "      <td>NaN</td>\n",
       "      <td>NaN</td>\n",
       "      <td>NaN</td>\n",
       "    </tr>\n",
       "    <tr>\n",
       "      <th>4</th>\n",
       "      <td>1006098</td>\n",
       "      <td>NaN</td>\n",
       "      <td>NaN</td>\n",
       "      <td>NaN</td>\n",
       "      <td>NaN</td>\n",
       "      <td>NaN</td>\n",
       "      <td>NaN</td>\n",
       "      <td>NaN</td>\n",
       "      <td>NaN</td>\n",
       "      <td>NaN</td>\n",
       "      <td>NaN</td>\n",
       "    </tr>\n",
       "  </tbody>\n",
       "</table>\n",
       "</div>"
      ],
      "text/plain": [
       "       PID  Event1  Event2  Event3  Event4  Event5  Event6  Event7  Event8  \\\n",
       "0  1028890     NaN     NaN     NaN     NaN     NaN     NaN     NaN     NaN   \n",
       "1  1021443     NaN     NaN     NaN     NaN     NaN     NaN     NaN     NaN   \n",
       "2  1016194     NaN     NaN     NaN     NaN     NaN     NaN     NaN     NaN   \n",
       "3  1017298     NaN     NaN     NaN     NaN     NaN     NaN     NaN     NaN   \n",
       "4  1006098     NaN     NaN     NaN     NaN     NaN     NaN     NaN     NaN   \n",
       "\n",
       "   Event9  Event10  \n",
       "0     NaN      NaN  \n",
       "1     NaN      NaN  \n",
       "2     NaN      NaN  \n",
       "3     NaN      NaN  \n",
       "4     NaN      NaN  "
      ]
     },
     "execution_count": 143,
     "metadata": {},
     "output_type": "execute_result"
    }
   ],
   "source": [
    "sample.head()"
   ]
  },
  {
   "cell_type": "code",
   "execution_count": 144,
   "metadata": {
    "collapsed": false,
    "deletable": true,
    "editable": true
   },
   "outputs": [
    {
     "name": "stdout",
     "output_type": "stream",
     "text": [
      "(766787, 3) (3000, 1)\n"
     ]
    }
   ],
   "source": [
    "print train.shape,test.shape"
   ]
  },
  {
   "cell_type": "code",
   "execution_count": 145,
   "metadata": {
    "collapsed": false,
    "deletable": true,
    "editable": true
   },
   "outputs": [
    {
     "data": {
      "text/plain": [
       "array([], dtype=int64)"
      ]
     },
     "execution_count": 145,
     "metadata": {},
     "output_type": "execute_result"
    }
   ],
   "source": [
    "np.setdiff1d(train.PID,test.PID)"
   ]
  },
  {
   "cell_type": "code",
   "execution_count": 146,
   "metadata": {
    "collapsed": false,
    "deletable": true,
    "editable": true
   },
   "outputs": [
    {
     "data": {
      "text/plain": [
       "6472"
      ]
     },
     "execution_count": 146,
     "metadata": {},
     "output_type": "execute_result"
    }
   ],
   "source": [
    "len(train.Event.unique())"
   ]
  },
  {
   "cell_type": "code",
   "execution_count": 147,
   "metadata": {
    "collapsed": false,
    "deletable": true,
    "editable": true
   },
   "outputs": [
    {
     "data": {
      "text/plain": [
       "3000"
      ]
     },
     "execution_count": 147,
     "metadata": {},
     "output_type": "execute_result"
    }
   ],
   "source": [
    "len(train.PID.unique())"
   ]
  },
  {
   "cell_type": "code",
   "execution_count": 148,
   "metadata": {
    "collapsed": false,
    "deletable": true,
    "editable": true
   },
   "outputs": [
    {
     "data": {
      "text/plain": [
       "count      3000\n",
       "unique        1\n",
       "top       False\n",
       "freq       3000\n",
       "Name: PID, dtype: object"
      ]
     },
     "execution_count": 148,
     "metadata": {},
     "output_type": "execute_result"
    }
   ],
   "source": [
    "(test.PID.value_counts()>1).describe()"
   ]
  },
  {
   "cell_type": "code",
   "execution_count": 149,
   "metadata": {
    "collapsed": false,
    "deletable": true,
    "editable": true
   },
   "outputs": [
    {
     "data": {
      "text/plain": [
       "count     3000\n",
       "unique       2\n",
       "top       True\n",
       "freq      2891\n",
       "Name: PID, dtype: object"
      ]
     },
     "execution_count": 149,
     "metadata": {},
     "output_type": "execute_result"
    }
   ],
   "source": [
    "(train.PID.value_counts()>50).describe()"
   ]
  },
  {
   "cell_type": "code",
   "execution_count": 150,
   "metadata": {
    "collapsed": false,
    "deletable": true,
    "editable": true
   },
   "outputs": [
    {
     "data": {
      "text/plain": [
       "751362    7288\n",
       "751363    7245\n",
       "751364    8102\n",
       "751365    7102\n",
       "751366    9928\n",
       "751367    3470\n",
       "751368    2649\n",
       "751369    V723\n",
       "751370    9939\n",
       "751371    9900\n",
       "751372    8100\n",
       "751373    8389\n",
       "751374    8390\n",
       "751375    8391\n",
       "Name: Event, dtype: object"
      ]
     },
     "execution_count": 150,
     "metadata": {},
     "output_type": "execute_result"
    }
   ],
   "source": [
    "train.loc[train['PID'] == 1029677].Event"
   ]
  },
  {
   "cell_type": "code",
   "execution_count": 151,
   "metadata": {
    "collapsed": false,
    "deletable": true,
    "editable": true
   },
   "outputs": [
    {
     "data": {
      "text/plain": [
       "2316"
      ]
     },
     "execution_count": 151,
     "metadata": {},
     "output_type": "execute_result"
    }
   ],
   "source": [
    "event_counts = train.Event.value_counts()\n",
    "len(event_counts[event_counts>40])"
   ]
  },
  {
   "cell_type": "code",
   "execution_count": 152,
   "metadata": {
    "collapsed": false,
    "deletable": true,
    "editable": true
   },
   "outputs": [
    {
     "data": {
      "text/plain": [
       "A465    91\n",
       "4140    83\n",
       "9921    80\n",
       "5856    78\n",
       "9099    76\n",
       "2500    62\n",
       "7865    50\n",
       "7860    48\n",
       "J164    45\n",
       "4019    39\n",
       "9301    39\n",
       "2449    37\n",
       "1890    33\n",
       "Q408    33\n",
       "9923    32\n",
       "4280    32\n",
       "7101    31\n",
       "2809    30\n",
       "1985    30\n",
       "J127    30\n",
       "5888    30\n",
       "V451    29\n",
       "6811    26\n",
       "4039    25\n",
       "5188    25\n",
       "2852    25\n",
       "J175    23\n",
       "9929    23\n",
       "9922    21\n",
       "8734    21\n",
       "        ..\n",
       "1721     1\n",
       "9399     1\n",
       "6259     1\n",
       "2688     1\n",
       "2684     1\n",
       "3532     1\n",
       "7362     1\n",
       "2395     1\n",
       "9331     1\n",
       "8369     1\n",
       "7361     1\n",
       "8373     1\n",
       "8361     1\n",
       "7728     1\n",
       "8830     1\n",
       "V151     1\n",
       "7893     1\n",
       "3197     1\n",
       "566      1\n",
       "3464     1\n",
       "1918     1\n",
       "J240     1\n",
       "7355     1\n",
       "1991     1\n",
       "7356     1\n",
       "7847     1\n",
       "4442     1\n",
       "V764     1\n",
       "3747     1\n",
       "3000     1\n",
       "Name: Event, dtype: int64"
      ]
     },
     "execution_count": 152,
     "metadata": {},
     "output_type": "execute_result"
    }
   ],
   "source": [
    "event_counts_1011411 = train.loc[train['PID'] == 1011411].Event.value_counts()\n",
    "event_counts_1011411"
   ]
  },
  {
   "cell_type": "markdown",
   "metadata": {
    "deletable": true,
    "editable": true
   },
   "source": [
    "### Hypothesis : Find pattern in a patients medical activity in some fixed interval like 6month or a year(2.76 year in this case) - score: 0.0722"
   ]
  },
  {
   "cell_type": "code",
   "execution_count": 153,
   "metadata": {
    "collapsed": false,
    "deletable": true,
    "editable": true
   },
   "outputs": [],
   "source": [
    "### 1. Fixing jan 1, 2014 to check age of a record"
   ]
  },
  {
   "cell_type": "code",
   "execution_count": 154,
   "metadata": {
    "collapsed": true,
    "deletable": true,
    "editable": true
   },
   "outputs": [],
   "source": [
    "from datetime import datetime\n",
    "\n",
    "date_threshold = datetime.strptime(\"January, 2014\",\"%B, %Y\")\n"
   ]
  },
  {
   "cell_type": "code",
   "execution_count": 155,
   "metadata": {
    "collapsed": false,
    "deletable": true,
    "editable": true
   },
   "outputs": [],
   "source": [
    "train[\"Date\"] = pd.to_datetime(train[\"Date\"],format=\"%Y%m\")\n",
    "\n",
    "train[\"record_age\"] = train.Date.apply(lambda x: (date_threshold - x).days)"
   ]
  },
  {
   "cell_type": "code",
   "execution_count": 156,
   "metadata": {
    "collapsed": false,
    "deletable": true,
    "editable": true
   },
   "outputs": [
    {
     "data": {
      "text/html": [
       "<div>\n",
       "<table border=\"1\" class=\"dataframe\">\n",
       "  <thead>\n",
       "    <tr style=\"text-align: right;\">\n",
       "      <th></th>\n",
       "      <th>PID</th>\n",
       "      <th>Date</th>\n",
       "      <th>Event</th>\n",
       "      <th>record_age</th>\n",
       "    </tr>\n",
       "  </thead>\n",
       "  <tbody>\n",
       "    <tr>\n",
       "      <th>0</th>\n",
       "      <td>1028890</td>\n",
       "      <td>2011-01-01</td>\n",
       "      <td>2186</td>\n",
       "      <td>1096</td>\n",
       "    </tr>\n",
       "    <tr>\n",
       "      <th>1</th>\n",
       "      <td>1028890</td>\n",
       "      <td>2011-01-01</td>\n",
       "      <td>7087</td>\n",
       "      <td>1096</td>\n",
       "    </tr>\n",
       "    <tr>\n",
       "      <th>2</th>\n",
       "      <td>1028890</td>\n",
       "      <td>2011-01-01</td>\n",
       "      <td>4848</td>\n",
       "      <td>1096</td>\n",
       "    </tr>\n",
       "    <tr>\n",
       "      <th>3</th>\n",
       "      <td>1028890</td>\n",
       "      <td>2011-01-01</td>\n",
       "      <td>2214</td>\n",
       "      <td>1096</td>\n",
       "    </tr>\n",
       "    <tr>\n",
       "      <th>4</th>\n",
       "      <td>1028890</td>\n",
       "      <td>2011-02-01</td>\n",
       "      <td>7087</td>\n",
       "      <td>1065</td>\n",
       "    </tr>\n",
       "  </tbody>\n",
       "</table>\n",
       "</div>"
      ],
      "text/plain": [
       "       PID       Date Event  record_age\n",
       "0  1028890 2011-01-01  2186        1096\n",
       "1  1028890 2011-01-01  7087        1096\n",
       "2  1028890 2011-01-01  4848        1096\n",
       "3  1028890 2011-01-01  2214        1096\n",
       "4  1028890 2011-02-01  7087        1065"
      ]
     },
     "execution_count": 156,
     "metadata": {},
     "output_type": "execute_result"
    }
   ],
   "source": [
    "train.head()"
   ]
  },
  {
   "cell_type": "code",
   "execution_count": 157,
   "metadata": {
    "collapsed": false,
    "deletable": true,
    "editable": true
   },
   "outputs": [
    {
     "name": "stderr",
     "output_type": "stream",
     "text": [
      "/usr/local/lib/python2.7/site-packages/ipykernel/__main__.py:3: SettingWithCopyWarning: \n",
      "A value is trying to be set on a copy of a slice from a DataFrame\n",
      "\n",
      "See the caveats in the documentation: http://pandas.pydata.org/pandas-docs/stable/indexing.html#indexing-view-versus-copy\n",
      "  app.launch_new_instance()\n"
     ]
    }
   ],
   "source": [
    "#Find Records of last x months and sort them by date\n",
    "train_last_x_months = train.loc[train['record_age']<=1010]\n",
    "train_last_x_months.sort_values(by=\"Date\",ascending=False,inplace=True)\n",
    "\n",
    "train_last_x_crosstab = pd.crosstab(index=train_last_x_months['PID'], columns=train_last_x_months['Event'])"
   ]
  },
  {
   "cell_type": "code",
   "execution_count": 158,
   "metadata": {
    "collapsed": false,
    "deletable": true,
    "editable": true
   },
   "outputs": [
    {
     "data": {
      "text/plain": [
       "3000"
      ]
     },
     "execution_count": 158,
     "metadata": {},
     "output_type": "execute_result"
    }
   ],
   "source": [
    "len(train_last_x_months.PID.unique())"
   ]
  },
  {
   "cell_type": "code",
   "execution_count": 159,
   "metadata": {
    "collapsed": false,
    "deletable": true,
    "editable": true
   },
   "outputs": [
    {
     "data": {
      "text/plain": [
       "array([], dtype=int64)"
      ]
     },
     "execution_count": 159,
     "metadata": {},
     "output_type": "execute_result"
    }
   ],
   "source": [
    "np.setdiff1d(test[\"PID\"],train_last_x_months[\"PID\"])"
   ]
  },
  {
   "cell_type": "code",
   "execution_count": 160,
   "metadata": {
    "collapsed": true,
    "deletable": true,
    "editable": true
   },
   "outputs": [],
   "source": [
    "# train_last_six_crosstab = pd.crosstab(index=train_last_six_months['PID'], columns=train_last_six_months['Event'])\n",
    "submit3 = train_last_x_crosstab.loc[:,train_last_x_crosstab.columns != 'PID'].apply(lambda x: pd.Series(x.sort_values(ascending=False).iloc[:10].index, index=['Event'+str(x) for x in range(1,11)]),axis=1).reset_index()"
   ]
  },
  {
   "cell_type": "code",
   "execution_count": 161,
   "metadata": {
    "collapsed": false,
    "deletable": true,
    "editable": true
   },
   "outputs": [
    {
     "data": {
      "text/html": [
       "<div>\n",
       "<table border=\"1\" class=\"dataframe\">\n",
       "  <thead>\n",
       "    <tr style=\"text-align: right;\">\n",
       "      <th></th>\n",
       "      <th>PID</th>\n",
       "      <th>Event1</th>\n",
       "      <th>Event2</th>\n",
       "      <th>Event3</th>\n",
       "      <th>Event4</th>\n",
       "      <th>Event5</th>\n",
       "      <th>Event6</th>\n",
       "      <th>Event7</th>\n",
       "      <th>Event8</th>\n",
       "      <th>Event9</th>\n",
       "      <th>Event10</th>\n",
       "    </tr>\n",
       "  </thead>\n",
       "  <tbody>\n",
       "    <tr>\n",
       "      <th>0</th>\n",
       "      <td>1000001</td>\n",
       "      <td>3074</td>\n",
       "      <td>3263</td>\n",
       "      <td>2533</td>\n",
       "      <td>2178</td>\n",
       "      <td>2632</td>\n",
       "      <td>3041</td>\n",
       "      <td>3016</td>\n",
       "      <td>3272</td>\n",
       "      <td>9921</td>\n",
       "      <td>2582</td>\n",
       "    </tr>\n",
       "    <tr>\n",
       "      <th>1</th>\n",
       "      <td>1000011</td>\n",
       "      <td>9921</td>\n",
       "      <td>8470</td>\n",
       "      <td>3106</td>\n",
       "      <td>8100</td>\n",
       "      <td>9928</td>\n",
       "      <td>8502</td>\n",
       "      <td>9711</td>\n",
       "      <td>2335</td>\n",
       "      <td>7231</td>\n",
       "      <td>7890</td>\n",
       "    </tr>\n",
       "    <tr>\n",
       "      <th>2</th>\n",
       "      <td>1000019</td>\n",
       "      <td>7682</td>\n",
       "      <td>7681</td>\n",
       "      <td>9928</td>\n",
       "      <td>6558</td>\n",
       "      <td>7680</td>\n",
       "      <td>6522</td>\n",
       "      <td>V270</td>\n",
       "      <td>9397</td>\n",
       "      <td>9920</td>\n",
       "      <td>7194</td>\n",
       "    </tr>\n",
       "    <tr>\n",
       "      <th>3</th>\n",
       "      <td>1000025</td>\n",
       "      <td>3254</td>\n",
       "      <td>3641</td>\n",
       "      <td>2635</td>\n",
       "      <td>2674</td>\n",
       "      <td>3419</td>\n",
       "      <td>3410</td>\n",
       "      <td>8444</td>\n",
       "      <td>8443</td>\n",
       "      <td>5852</td>\n",
       "      <td>9921</td>\n",
       "    </tr>\n",
       "    <tr>\n",
       "      <th>4</th>\n",
       "      <td>1000029</td>\n",
       "      <td>2533</td>\n",
       "      <td>2773</td>\n",
       "      <td>3638</td>\n",
       "      <td>9921</td>\n",
       "      <td>4011</td>\n",
       "      <td>8830</td>\n",
       "      <td>7373</td>\n",
       "      <td>3616</td>\n",
       "      <td>V723</td>\n",
       "      <td>3051</td>\n",
       "    </tr>\n",
       "    <tr>\n",
       "      <th>5</th>\n",
       "      <td>1000043</td>\n",
       "      <td>3082</td>\n",
       "      <td>9080</td>\n",
       "      <td>3091</td>\n",
       "      <td>9921</td>\n",
       "      <td>3591</td>\n",
       "      <td>3092</td>\n",
       "      <td>3272</td>\n",
       "      <td>3665</td>\n",
       "      <td>3201</td>\n",
       "      <td>2843</td>\n",
       "    </tr>\n",
       "    <tr>\n",
       "      <th>6</th>\n",
       "      <td>1000068</td>\n",
       "      <td>2334</td>\n",
       "      <td>9711</td>\n",
       "      <td>9703</td>\n",
       "      <td>3263</td>\n",
       "      <td>9701</td>\n",
       "      <td>3478</td>\n",
       "      <td>7245</td>\n",
       "      <td>3454</td>\n",
       "      <td>8502</td>\n",
       "      <td>9928</td>\n",
       "    </tr>\n",
       "    <tr>\n",
       "      <th>7</th>\n",
       "      <td>1000075</td>\n",
       "      <td>1963</td>\n",
       "      <td>2777</td>\n",
       "      <td>3317</td>\n",
       "      <td>2809</td>\n",
       "      <td>2449</td>\n",
       "      <td>9921</td>\n",
       "      <td>4019</td>\n",
       "      <td>3641</td>\n",
       "      <td>5693</td>\n",
       "      <td>2859</td>\n",
       "    </tr>\n",
       "    <tr>\n",
       "      <th>8</th>\n",
       "      <td>1000079</td>\n",
       "      <td>4140</td>\n",
       "      <td>9928</td>\n",
       "      <td>7865</td>\n",
       "      <td>3320</td>\n",
       "      <td>V586</td>\n",
       "      <td>4019</td>\n",
       "      <td>9301</td>\n",
       "      <td>2387</td>\n",
       "      <td>2500</td>\n",
       "      <td>7860</td>\n",
       "    </tr>\n",
       "    <tr>\n",
       "      <th>9</th>\n",
       "      <td>1000082</td>\n",
       "      <td>3324</td>\n",
       "      <td>3272</td>\n",
       "      <td>2632</td>\n",
       "      <td>2627</td>\n",
       "      <td>3729</td>\n",
       "      <td>2978</td>\n",
       "      <td>V726</td>\n",
       "      <td>9939</td>\n",
       "      <td>G020</td>\n",
       "      <td>8690</td>\n",
       "    </tr>\n",
       "    <tr>\n",
       "      <th>10</th>\n",
       "      <td>1000098</td>\n",
       "      <td>7373</td>\n",
       "      <td>7339</td>\n",
       "      <td>V454</td>\n",
       "      <td>7242</td>\n",
       "      <td>4578</td>\n",
       "      <td>7212</td>\n",
       "      <td>9921</td>\n",
       "      <td>8690</td>\n",
       "      <td>7241</td>\n",
       "      <td>7402</td>\n",
       "    </tr>\n",
       "    <tr>\n",
       "      <th>11</th>\n",
       "      <td>1000111</td>\n",
       "      <td>V653</td>\n",
       "      <td>V855</td>\n",
       "      <td>V700</td>\n",
       "      <td>462</td>\n",
       "      <td>9064</td>\n",
       "      <td>4781</td>\n",
       "      <td>5308</td>\n",
       "      <td>7862</td>\n",
       "      <td>9046</td>\n",
       "      <td>V053</td>\n",
       "    </tr>\n",
       "    <tr>\n",
       "      <th>12</th>\n",
       "      <td>1000122</td>\n",
       "      <td>3048</td>\n",
       "      <td>3472</td>\n",
       "      <td>2940</td>\n",
       "      <td>3239</td>\n",
       "      <td>2343</td>\n",
       "      <td>2593</td>\n",
       "      <td>3562</td>\n",
       "      <td>2741</td>\n",
       "      <td>7705</td>\n",
       "      <td>3536</td>\n",
       "    </tr>\n",
       "    <tr>\n",
       "      <th>13</th>\n",
       "      <td>1000138</td>\n",
       "      <td>2647</td>\n",
       "      <td>3543</td>\n",
       "      <td>4866</td>\n",
       "      <td>3370</td>\n",
       "      <td>2987</td>\n",
       "      <td>3061</td>\n",
       "      <td>3270</td>\n",
       "      <td>3081</td>\n",
       "      <td>6373</td>\n",
       "      <td>2645</td>\n",
       "    </tr>\n",
       "    <tr>\n",
       "      <th>14</th>\n",
       "      <td>1000141</td>\n",
       "      <td>2334</td>\n",
       "      <td>3233</td>\n",
       "      <td>2717</td>\n",
       "      <td>V221</td>\n",
       "      <td>6596</td>\n",
       "      <td>3074</td>\n",
       "      <td>7681</td>\n",
       "      <td>2539</td>\n",
       "      <td>2964</td>\n",
       "      <td>2576</td>\n",
       "    </tr>\n",
       "    <tr>\n",
       "      <th>15</th>\n",
       "      <td>1000151</td>\n",
       "      <td>2024</td>\n",
       "      <td>3591</td>\n",
       "      <td>3615</td>\n",
       "      <td>3454</td>\n",
       "      <td>3360</td>\n",
       "      <td>3486</td>\n",
       "      <td>3510</td>\n",
       "      <td>3320</td>\n",
       "      <td>9921</td>\n",
       "      <td>3327</td>\n",
       "    </tr>\n",
       "    <tr>\n",
       "      <th>16</th>\n",
       "      <td>1000156</td>\n",
       "      <td>9928</td>\n",
       "      <td>V221</td>\n",
       "      <td>8502</td>\n",
       "      <td>8102</td>\n",
       "      <td>8470</td>\n",
       "      <td>3641</td>\n",
       "      <td>6238</td>\n",
       "      <td>7685</td>\n",
       "      <td>8749</td>\n",
       "      <td>7683</td>\n",
       "    </tr>\n",
       "    <tr>\n",
       "      <th>17</th>\n",
       "      <td>1000158</td>\n",
       "      <td>2963</td>\n",
       "      <td>9086</td>\n",
       "      <td>3116</td>\n",
       "      <td>9921</td>\n",
       "      <td>2371</td>\n",
       "      <td>3433</td>\n",
       "      <td>2382</td>\n",
       "      <td>9928</td>\n",
       "      <td>2111</td>\n",
       "      <td>3641</td>\n",
       "    </tr>\n",
       "    <tr>\n",
       "      <th>18</th>\n",
       "      <td>1000172</td>\n",
       "      <td>5902</td>\n",
       "      <td>6466</td>\n",
       "      <td>8100</td>\n",
       "      <td>9921</td>\n",
       "      <td>6489</td>\n",
       "      <td>8749</td>\n",
       "      <td>8708</td>\n",
       "      <td>8759</td>\n",
       "      <td>9928</td>\n",
       "      <td>6598</td>\n",
       "    </tr>\n",
       "    <tr>\n",
       "      <th>19</th>\n",
       "      <td>1000196</td>\n",
       "      <td>3051</td>\n",
       "      <td>3558</td>\n",
       "      <td>2303</td>\n",
       "      <td>2667</td>\n",
       "      <td>3418</td>\n",
       "      <td>3255</td>\n",
       "      <td>1955</td>\n",
       "      <td>7132</td>\n",
       "      <td>6421</td>\n",
       "      <td>2630</td>\n",
       "    </tr>\n",
       "    <tr>\n",
       "      <th>20</th>\n",
       "      <td>1000200</td>\n",
       "      <td>2677</td>\n",
       "      <td>3266</td>\n",
       "      <td>1824</td>\n",
       "      <td>2657</td>\n",
       "      <td>2744</td>\n",
       "      <td>2576</td>\n",
       "      <td>3616</td>\n",
       "      <td>3222</td>\n",
       "      <td>6437</td>\n",
       "      <td>9921</td>\n",
       "    </tr>\n",
       "    <tr>\n",
       "      <th>21</th>\n",
       "      <td>1000207</td>\n",
       "      <td>9921</td>\n",
       "      <td>4939</td>\n",
       "      <td>7879</td>\n",
       "      <td>9637</td>\n",
       "      <td>3641</td>\n",
       "      <td>J188</td>\n",
       "      <td>8704</td>\n",
       "      <td>8502</td>\n",
       "      <td>7870</td>\n",
       "      <td>8701</td>\n",
       "    </tr>\n",
       "    <tr>\n",
       "      <th>22</th>\n",
       "      <td>1000230</td>\n",
       "      <td>340</td>\n",
       "      <td>2635</td>\n",
       "      <td>9921</td>\n",
       "      <td>3219</td>\n",
       "      <td>8502</td>\n",
       "      <td>3641</td>\n",
       "      <td>2663</td>\n",
       "      <td>9636</td>\n",
       "      <td>2669</td>\n",
       "      <td>9301</td>\n",
       "    </tr>\n",
       "    <tr>\n",
       "      <th>23</th>\n",
       "      <td>1000232</td>\n",
       "      <td>5902</td>\n",
       "      <td>6489</td>\n",
       "      <td>6582</td>\n",
       "      <td>7681</td>\n",
       "      <td>8100</td>\n",
       "      <td>V140</td>\n",
       "      <td>9928</td>\n",
       "      <td>V234</td>\n",
       "      <td>7890</td>\n",
       "      <td>6400</td>\n",
       "    </tr>\n",
       "    <tr>\n",
       "      <th>24</th>\n",
       "      <td>1000237</td>\n",
       "      <td>2744</td>\n",
       "      <td>4538</td>\n",
       "      <td>3569</td>\n",
       "      <td>5693</td>\n",
       "      <td>3263</td>\n",
       "      <td>2650</td>\n",
       "      <td>3629</td>\n",
       "      <td>3531</td>\n",
       "      <td>3271</td>\n",
       "      <td>3396</td>\n",
       "    </tr>\n",
       "    <tr>\n",
       "      <th>25</th>\n",
       "      <td>1000240</td>\n",
       "      <td>4019</td>\n",
       "      <td>9921</td>\n",
       "      <td>7872</td>\n",
       "      <td>8004</td>\n",
       "      <td>7102</td>\n",
       "      <td>2410</td>\n",
       "      <td>2724</td>\n",
       "      <td>8007</td>\n",
       "      <td>8006</td>\n",
       "      <td>9300</td>\n",
       "    </tr>\n",
       "    <tr>\n",
       "      <th>26</th>\n",
       "      <td>1000247</td>\n",
       "      <td>9921</td>\n",
       "      <td>2500</td>\n",
       "      <td>4019</td>\n",
       "      <td>6202</td>\n",
       "      <td>3641</td>\n",
       "      <td>5920</td>\n",
       "      <td>8100</td>\n",
       "      <td>7263</td>\n",
       "      <td>2809</td>\n",
       "      <td>7902</td>\n",
       "    </tr>\n",
       "    <tr>\n",
       "      <th>27</th>\n",
       "      <td>1000251</td>\n",
       "      <td>V238</td>\n",
       "      <td>9921</td>\n",
       "      <td>8100</td>\n",
       "      <td>6490</td>\n",
       "      <td>8708</td>\n",
       "      <td>8502</td>\n",
       "      <td>7840</td>\n",
       "      <td>6489</td>\n",
       "      <td>3052</td>\n",
       "      <td>8005</td>\n",
       "    </tr>\n",
       "    <tr>\n",
       "      <th>28</th>\n",
       "      <td>1000252</td>\n",
       "      <td>9921</td>\n",
       "      <td>5308</td>\n",
       "      <td>2449</td>\n",
       "      <td>7194</td>\n",
       "      <td>9711</td>\n",
       "      <td>9714</td>\n",
       "      <td>9715</td>\n",
       "      <td>5621</td>\n",
       "      <td>3641</td>\n",
       "      <td>4011</td>\n",
       "    </tr>\n",
       "    <tr>\n",
       "      <th>29</th>\n",
       "      <td>1000255</td>\n",
       "      <td>9921</td>\n",
       "      <td>3426</td>\n",
       "      <td>V222</td>\n",
       "      <td>V069</td>\n",
       "      <td>9047</td>\n",
       "      <td>9928</td>\n",
       "      <td>9064</td>\n",
       "      <td>8102</td>\n",
       "      <td>8409</td>\n",
       "      <td>7680</td>\n",
       "    </tr>\n",
       "    <tr>\n",
       "      <th>...</th>\n",
       "      <td>...</td>\n",
       "      <td>...</td>\n",
       "      <td>...</td>\n",
       "      <td>...</td>\n",
       "      <td>...</td>\n",
       "      <td>...</td>\n",
       "      <td>...</td>\n",
       "      <td>...</td>\n",
       "      <td>...</td>\n",
       "      <td>...</td>\n",
       "      <td>...</td>\n",
       "    </tr>\n",
       "    <tr>\n",
       "      <th>2970</th>\n",
       "      <td>1031652</td>\n",
       "      <td>9921</td>\n",
       "      <td>4011</td>\n",
       "      <td>2720</td>\n",
       "      <td>2104</td>\n",
       "      <td>2449</td>\n",
       "      <td>1749</td>\n",
       "      <td>3082</td>\n",
       "      <td>3263</td>\n",
       "      <td>5308</td>\n",
       "      <td>3641</td>\n",
       "    </tr>\n",
       "    <tr>\n",
       "      <th>2971</th>\n",
       "      <td>1031655</td>\n",
       "      <td>Q408</td>\n",
       "      <td>9099</td>\n",
       "      <td>3641</td>\n",
       "      <td>8502</td>\n",
       "      <td>5856</td>\n",
       "      <td>2852</td>\n",
       "      <td>8004</td>\n",
       "      <td>J175</td>\n",
       "      <td>2030</td>\n",
       "      <td>2809</td>\n",
       "    </tr>\n",
       "    <tr>\n",
       "      <th>2972</th>\n",
       "      <td>1031658</td>\n",
       "      <td>3094</td>\n",
       "      <td>9080</td>\n",
       "      <td>2500</td>\n",
       "      <td>7071</td>\n",
       "      <td>3058</td>\n",
       "      <td>9923</td>\n",
       "      <td>A042</td>\n",
       "      <td>5990</td>\n",
       "      <td>J227</td>\n",
       "      <td>9934</td>\n",
       "    </tr>\n",
       "    <tr>\n",
       "      <th>2973</th>\n",
       "      <td>1031669</td>\n",
       "      <td>4273</td>\n",
       "      <td>8561</td>\n",
       "      <td>V586</td>\n",
       "      <td>2500</td>\n",
       "      <td>2724</td>\n",
       "      <td>8004</td>\n",
       "      <td>9921</td>\n",
       "      <td>3641</td>\n",
       "      <td>8007</td>\n",
       "      <td>8303</td>\n",
       "    </tr>\n",
       "    <tr>\n",
       "      <th>2974</th>\n",
       "      <td>1031670</td>\n",
       "      <td>3254</td>\n",
       "      <td>9921</td>\n",
       "      <td>7705</td>\n",
       "      <td>3410</td>\n",
       "      <td>1737</td>\n",
       "      <td>V108</td>\n",
       "      <td>V761</td>\n",
       "      <td>3676</td>\n",
       "      <td>1006</td>\n",
       "      <td>6272</td>\n",
       "    </tr>\n",
       "    <tr>\n",
       "      <th>2975</th>\n",
       "      <td>1031674</td>\n",
       "      <td>2643</td>\n",
       "      <td>4100</td>\n",
       "      <td>2093</td>\n",
       "      <td>2447</td>\n",
       "      <td>3217</td>\n",
       "      <td>2562</td>\n",
       "      <td>2444</td>\n",
       "      <td>3578</td>\n",
       "      <td>7950</td>\n",
       "      <td>2686</td>\n",
       "    </tr>\n",
       "    <tr>\n",
       "      <th>2976</th>\n",
       "      <td>1031678</td>\n",
       "      <td>7890</td>\n",
       "      <td>8502</td>\n",
       "      <td>7664</td>\n",
       "      <td>3641</td>\n",
       "      <td>G020</td>\n",
       "      <td>7705</td>\n",
       "      <td>V761</td>\n",
       "      <td>9397</td>\n",
       "      <td>8470</td>\n",
       "      <td>4019</td>\n",
       "    </tr>\n",
       "    <tr>\n",
       "      <th>2977</th>\n",
       "      <td>1031682</td>\n",
       "      <td>3481</td>\n",
       "      <td>9921</td>\n",
       "      <td>3314</td>\n",
       "      <td>9923</td>\n",
       "      <td>2964</td>\n",
       "      <td>V452</td>\n",
       "      <td>7833</td>\n",
       "      <td>4939</td>\n",
       "      <td>2024</td>\n",
       "      <td>7870</td>\n",
       "    </tr>\n",
       "    <tr>\n",
       "      <th>2978</th>\n",
       "      <td>1031685</td>\n",
       "      <td>2334</td>\n",
       "      <td>3220</td>\n",
       "      <td>3263</td>\n",
       "      <td>3335</td>\n",
       "      <td>2533</td>\n",
       "      <td>3131</td>\n",
       "      <td>1749</td>\n",
       "      <td>3170</td>\n",
       "      <td>3584</td>\n",
       "      <td>3638</td>\n",
       "    </tr>\n",
       "    <tr>\n",
       "      <th>2979</th>\n",
       "      <td>1031690</td>\n",
       "      <td>V222</td>\n",
       "      <td>8100</td>\n",
       "      <td>9900</td>\n",
       "      <td>3641</td>\n",
       "      <td>8443</td>\n",
       "      <td>2706</td>\n",
       "      <td>9921</td>\n",
       "      <td>2449</td>\n",
       "      <td>2118</td>\n",
       "      <td>7681</td>\n",
       "    </tr>\n",
       "    <tr>\n",
       "      <th>2980</th>\n",
       "      <td>1031691</td>\n",
       "      <td>9928</td>\n",
       "      <td>9921</td>\n",
       "      <td>8100</td>\n",
       "      <td>3167</td>\n",
       "      <td>3641</td>\n",
       "      <td>4011</td>\n",
       "      <td>5920</td>\n",
       "      <td>9300</td>\n",
       "      <td>7890</td>\n",
       "      <td>7840</td>\n",
       "    </tr>\n",
       "    <tr>\n",
       "      <th>2981</th>\n",
       "      <td>1031705</td>\n",
       "      <td>8010</td>\n",
       "      <td>6484</td>\n",
       "      <td>6489</td>\n",
       "      <td>3059</td>\n",
       "      <td>8100</td>\n",
       "      <td>8830</td>\n",
       "      <td>8708</td>\n",
       "      <td>2331</td>\n",
       "      <td>8502</td>\n",
       "      <td>3052</td>\n",
       "    </tr>\n",
       "    <tr>\n",
       "      <th>2982</th>\n",
       "      <td>1031711</td>\n",
       "      <td>2645</td>\n",
       "      <td>2444</td>\n",
       "      <td>2836</td>\n",
       "      <td>2674</td>\n",
       "      <td>2189</td>\n",
       "      <td>3410</td>\n",
       "      <td>1975</td>\n",
       "      <td>3454</td>\n",
       "      <td>2449</td>\n",
       "      <td>9920</td>\n",
       "    </tr>\n",
       "    <tr>\n",
       "      <th>2983</th>\n",
       "      <td>1031713</td>\n",
       "      <td>3094</td>\n",
       "      <td>2525</td>\n",
       "      <td>6235</td>\n",
       "      <td>T101</td>\n",
       "      <td>V745</td>\n",
       "      <td>9921</td>\n",
       "      <td>1310</td>\n",
       "      <td>3478</td>\n",
       "      <td>8005</td>\n",
       "      <td>V723</td>\n",
       "    </tr>\n",
       "    <tr>\n",
       "      <th>2984</th>\n",
       "      <td>1031717</td>\n",
       "      <td>9921</td>\n",
       "      <td>4400</td>\n",
       "      <td>5838</td>\n",
       "      <td>4140</td>\n",
       "      <td>2504</td>\n",
       "      <td>V450</td>\n",
       "      <td>2387</td>\n",
       "      <td>2722</td>\n",
       "      <td>3448</td>\n",
       "      <td>2674</td>\n",
       "    </tr>\n",
       "    <tr>\n",
       "      <th>2985</th>\n",
       "      <td>1031744</td>\n",
       "      <td>8100</td>\n",
       "      <td>7890</td>\n",
       "      <td>8502</td>\n",
       "      <td>8102</td>\n",
       "      <td>3641</td>\n",
       "      <td>2780</td>\n",
       "      <td>8005</td>\n",
       "      <td>9300</td>\n",
       "      <td>4280</td>\n",
       "      <td>4939</td>\n",
       "    </tr>\n",
       "    <tr>\n",
       "      <th>2986</th>\n",
       "      <td>1031753</td>\n",
       "      <td>1830</td>\n",
       "      <td>9921</td>\n",
       "      <td>2880</td>\n",
       "      <td>8502</td>\n",
       "      <td>9641</td>\n",
       "      <td>8005</td>\n",
       "      <td>3641</td>\n",
       "      <td>179</td>\n",
       "      <td>9636</td>\n",
       "      <td>9637</td>\n",
       "    </tr>\n",
       "    <tr>\n",
       "      <th>2987</th>\n",
       "      <td>1031773</td>\n",
       "      <td>9080</td>\n",
       "      <td>3491</td>\n",
       "      <td>3092</td>\n",
       "      <td>1843</td>\n",
       "      <td>311</td>\n",
       "      <td>2657</td>\n",
       "      <td>3409</td>\n",
       "      <td>2744</td>\n",
       "      <td>3713</td>\n",
       "      <td>3372</td>\n",
       "    </tr>\n",
       "    <tr>\n",
       "      <th>2988</th>\n",
       "      <td>1031792</td>\n",
       "      <td>4140</td>\n",
       "      <td>4241</td>\n",
       "      <td>9921</td>\n",
       "      <td>2111</td>\n",
       "      <td>V586</td>\n",
       "      <td>2392</td>\n",
       "      <td>V588</td>\n",
       "      <td>8561</td>\n",
       "      <td>V458</td>\n",
       "      <td>4273</td>\n",
       "    </tr>\n",
       "    <tr>\n",
       "      <th>2989</th>\n",
       "      <td>1031798</td>\n",
       "      <td>7242</td>\n",
       "      <td>9921</td>\n",
       "      <td>7243</td>\n",
       "      <td>2729</td>\n",
       "      <td>9637</td>\n",
       "      <td>J188</td>\n",
       "      <td>3659</td>\n",
       "      <td>8409</td>\n",
       "      <td>3540</td>\n",
       "      <td>7291</td>\n",
       "    </tr>\n",
       "    <tr>\n",
       "      <th>2990</th>\n",
       "      <td>1031801</td>\n",
       "      <td>9921</td>\n",
       "      <td>8100</td>\n",
       "      <td>8708</td>\n",
       "      <td>6260</td>\n",
       "      <td>2969</td>\n",
       "      <td>2773</td>\n",
       "      <td>5990</td>\n",
       "      <td>8707</td>\n",
       "      <td>8718</td>\n",
       "      <td>8102</td>\n",
       "    </tr>\n",
       "    <tr>\n",
       "      <th>2991</th>\n",
       "      <td>1031804</td>\n",
       "      <td>632</td>\n",
       "      <td>7681</td>\n",
       "      <td>3641</td>\n",
       "      <td>6238</td>\n",
       "      <td>9928</td>\n",
       "      <td>8502</td>\n",
       "      <td>9921</td>\n",
       "      <td>8690</td>\n",
       "      <td>8830</td>\n",
       "      <td>6400</td>\n",
       "    </tr>\n",
       "    <tr>\n",
       "      <th>2992</th>\n",
       "      <td>1031814</td>\n",
       "      <td>9703</td>\n",
       "      <td>9920</td>\n",
       "      <td>9894</td>\n",
       "      <td>9711</td>\n",
       "      <td>7391</td>\n",
       "      <td>7231</td>\n",
       "      <td>9953</td>\n",
       "      <td>8471</td>\n",
       "      <td>7089</td>\n",
       "      <td>9921</td>\n",
       "    </tr>\n",
       "    <tr>\n",
       "      <th>2993</th>\n",
       "      <td>1031825</td>\n",
       "      <td>2430</td>\n",
       "      <td>1817</td>\n",
       "      <td>3325</td>\n",
       "      <td>3339</td>\n",
       "      <td>3226</td>\n",
       "      <td>3433</td>\n",
       "      <td>2706</td>\n",
       "      <td>2599</td>\n",
       "      <td>3576</td>\n",
       "      <td>7860</td>\n",
       "    </tr>\n",
       "    <tr>\n",
       "      <th>2994</th>\n",
       "      <td>1031838</td>\n",
       "      <td>3035</td>\n",
       "      <td>2562</td>\n",
       "      <td>3034</td>\n",
       "      <td>3352</td>\n",
       "      <td>2392</td>\n",
       "      <td>2670</td>\n",
       "      <td>7681</td>\n",
       "      <td>3665</td>\n",
       "      <td>2348</td>\n",
       "      <td>2500</td>\n",
       "    </tr>\n",
       "    <tr>\n",
       "      <th>2995</th>\n",
       "      <td>1031852</td>\n",
       "      <td>V860</td>\n",
       "      <td>1741</td>\n",
       "      <td>V457</td>\n",
       "      <td>1963</td>\n",
       "      <td>J348</td>\n",
       "      <td>1985</td>\n",
       "      <td>9636</td>\n",
       "      <td>3549</td>\n",
       "      <td>V153</td>\n",
       "      <td>2693</td>\n",
       "    </tr>\n",
       "    <tr>\n",
       "      <th>2996</th>\n",
       "      <td>1031862</td>\n",
       "      <td>7890</td>\n",
       "      <td>2968</td>\n",
       "      <td>9928</td>\n",
       "      <td>6149</td>\n",
       "      <td>7806</td>\n",
       "      <td>3123</td>\n",
       "      <td>8502</td>\n",
       "      <td>9923</td>\n",
       "      <td>4939</td>\n",
       "      <td>8614</td>\n",
       "    </tr>\n",
       "    <tr>\n",
       "      <th>2997</th>\n",
       "      <td>1031882</td>\n",
       "      <td>9921</td>\n",
       "      <td>7291</td>\n",
       "      <td>2234</td>\n",
       "      <td>2627</td>\n",
       "      <td>3500</td>\n",
       "      <td>7890</td>\n",
       "      <td>7231</td>\n",
       "      <td>3222</td>\n",
       "      <td>7242</td>\n",
       "      <td>2371</td>\n",
       "    </tr>\n",
       "    <tr>\n",
       "      <th>2998</th>\n",
       "      <td>1031899</td>\n",
       "      <td>9921</td>\n",
       "      <td>9206</td>\n",
       "      <td>8780</td>\n",
       "      <td>9201</td>\n",
       "      <td>8788</td>\n",
       "      <td>3785</td>\n",
       "      <td>7295</td>\n",
       "      <td>462</td>\n",
       "      <td>9611</td>\n",
       "      <td>8100</td>\n",
       "    </tr>\n",
       "    <tr>\n",
       "      <th>2999</th>\n",
       "      <td>1031900</td>\n",
       "      <td>7242</td>\n",
       "      <td>V103</td>\n",
       "      <td>9921</td>\n",
       "      <td>9702</td>\n",
       "      <td>1983</td>\n",
       "      <td>V107</td>\n",
       "      <td>9711</td>\n",
       "      <td>G028</td>\n",
       "      <td>7244</td>\n",
       "      <td>7225</td>\n",
       "    </tr>\n",
       "  </tbody>\n",
       "</table>\n",
       "<p>3000 rows × 11 columns</p>\n",
       "</div>"
      ],
      "text/plain": [
       "          PID Event1 Event2 Event3 Event4 Event5 Event6 Event7 Event8 Event9  \\\n",
       "0     1000001   3074   3263   2533   2178   2632   3041   3016   3272   9921   \n",
       "1     1000011   9921   8470   3106   8100   9928   8502   9711   2335   7231   \n",
       "2     1000019   7682   7681   9928   6558   7680   6522   V270   9397   9920   \n",
       "3     1000025   3254   3641   2635   2674   3419   3410   8444   8443   5852   \n",
       "4     1000029   2533   2773   3638   9921   4011   8830   7373   3616   V723   \n",
       "5     1000043   3082   9080   3091   9921   3591   3092   3272   3665   3201   \n",
       "6     1000068   2334   9711   9703   3263   9701   3478   7245   3454   8502   \n",
       "7     1000075   1963   2777   3317   2809   2449   9921   4019   3641   5693   \n",
       "8     1000079   4140   9928   7865   3320   V586   4019   9301   2387   2500   \n",
       "9     1000082   3324   3272   2632   2627   3729   2978   V726   9939   G020   \n",
       "10    1000098   7373   7339   V454   7242   4578   7212   9921   8690   7241   \n",
       "11    1000111   V653   V855   V700    462   9064   4781   5308   7862   9046   \n",
       "12    1000122   3048   3472   2940   3239   2343   2593   3562   2741   7705   \n",
       "13    1000138   2647   3543   4866   3370   2987   3061   3270   3081   6373   \n",
       "14    1000141   2334   3233   2717   V221   6596   3074   7681   2539   2964   \n",
       "15    1000151   2024   3591   3615   3454   3360   3486   3510   3320   9921   \n",
       "16    1000156   9928   V221   8502   8102   8470   3641   6238   7685   8749   \n",
       "17    1000158   2963   9086   3116   9921   2371   3433   2382   9928   2111   \n",
       "18    1000172   5902   6466   8100   9921   6489   8749   8708   8759   9928   \n",
       "19    1000196   3051   3558   2303   2667   3418   3255   1955   7132   6421   \n",
       "20    1000200   2677   3266   1824   2657   2744   2576   3616   3222   6437   \n",
       "21    1000207   9921   4939   7879   9637   3641   J188   8704   8502   7870   \n",
       "22    1000230    340   2635   9921   3219   8502   3641   2663   9636   2669   \n",
       "23    1000232   5902   6489   6582   7681   8100   V140   9928   V234   7890   \n",
       "24    1000237   2744   4538   3569   5693   3263   2650   3629   3531   3271   \n",
       "25    1000240   4019   9921   7872   8004   7102   2410   2724   8007   8006   \n",
       "26    1000247   9921   2500   4019   6202   3641   5920   8100   7263   2809   \n",
       "27    1000251   V238   9921   8100   6490   8708   8502   7840   6489   3052   \n",
       "28    1000252   9921   5308   2449   7194   9711   9714   9715   5621   3641   \n",
       "29    1000255   9921   3426   V222   V069   9047   9928   9064   8102   8409   \n",
       "...       ...    ...    ...    ...    ...    ...    ...    ...    ...    ...   \n",
       "2970  1031652   9921   4011   2720   2104   2449   1749   3082   3263   5308   \n",
       "2971  1031655   Q408   9099   3641   8502   5856   2852   8004   J175   2030   \n",
       "2972  1031658   3094   9080   2500   7071   3058   9923   A042   5990   J227   \n",
       "2973  1031669   4273   8561   V586   2500   2724   8004   9921   3641   8007   \n",
       "2974  1031670   3254   9921   7705   3410   1737   V108   V761   3676   1006   \n",
       "2975  1031674   2643   4100   2093   2447   3217   2562   2444   3578   7950   \n",
       "2976  1031678   7890   8502   7664   3641   G020   7705   V761   9397   8470   \n",
       "2977  1031682   3481   9921   3314   9923   2964   V452   7833   4939   2024   \n",
       "2978  1031685   2334   3220   3263   3335   2533   3131   1749   3170   3584   \n",
       "2979  1031690   V222   8100   9900   3641   8443   2706   9921   2449   2118   \n",
       "2980  1031691   9928   9921   8100   3167   3641   4011   5920   9300   7890   \n",
       "2981  1031705   8010   6484   6489   3059   8100   8830   8708   2331   8502   \n",
       "2982  1031711   2645   2444   2836   2674   2189   3410   1975   3454   2449   \n",
       "2983  1031713   3094   2525   6235   T101   V745   9921   1310   3478   8005   \n",
       "2984  1031717   9921   4400   5838   4140   2504   V450   2387   2722   3448   \n",
       "2985  1031744   8100   7890   8502   8102   3641   2780   8005   9300   4280   \n",
       "2986  1031753   1830   9921   2880   8502   9641   8005   3641    179   9636   \n",
       "2987  1031773   9080   3491   3092   1843    311   2657   3409   2744   3713   \n",
       "2988  1031792   4140   4241   9921   2111   V586   2392   V588   8561   V458   \n",
       "2989  1031798   7242   9921   7243   2729   9637   J188   3659   8409   3540   \n",
       "2990  1031801   9921   8100   8708   6260   2969   2773   5990   8707   8718   \n",
       "2991  1031804    632   7681   3641   6238   9928   8502   9921   8690   8830   \n",
       "2992  1031814   9703   9920   9894   9711   7391   7231   9953   8471   7089   \n",
       "2993  1031825   2430   1817   3325   3339   3226   3433   2706   2599   3576   \n",
       "2994  1031838   3035   2562   3034   3352   2392   2670   7681   3665   2348   \n",
       "2995  1031852   V860   1741   V457   1963   J348   1985   9636   3549   V153   \n",
       "2996  1031862   7890   2968   9928   6149   7806   3123   8502   9923   4939   \n",
       "2997  1031882   9921   7291   2234   2627   3500   7890   7231   3222   7242   \n",
       "2998  1031899   9921   9206   8780   9201   8788   3785   7295    462   9611   \n",
       "2999  1031900   7242   V103   9921   9702   1983   V107   9711   G028   7244   \n",
       "\n",
       "     Event10  \n",
       "0       2582  \n",
       "1       7890  \n",
       "2       7194  \n",
       "3       9921  \n",
       "4       3051  \n",
       "5       2843  \n",
       "6       9928  \n",
       "7       2859  \n",
       "8       7860  \n",
       "9       8690  \n",
       "10      7402  \n",
       "11      V053  \n",
       "12      3536  \n",
       "13      2645  \n",
       "14      2576  \n",
       "15      3327  \n",
       "16      7683  \n",
       "17      3641  \n",
       "18      6598  \n",
       "19      2630  \n",
       "20      9921  \n",
       "21      8701  \n",
       "22      9301  \n",
       "23      6400  \n",
       "24      3396  \n",
       "25      9300  \n",
       "26      7902  \n",
       "27      8005  \n",
       "28      4011  \n",
       "29      7680  \n",
       "...      ...  \n",
       "2970    3641  \n",
       "2971    2809  \n",
       "2972    9934  \n",
       "2973    8303  \n",
       "2974    6272  \n",
       "2975    2686  \n",
       "2976    4019  \n",
       "2977    7870  \n",
       "2978    3638  \n",
       "2979    7681  \n",
       "2980    7840  \n",
       "2981    3052  \n",
       "2982    9920  \n",
       "2983    V723  \n",
       "2984    2674  \n",
       "2985    4939  \n",
       "2986    9637  \n",
       "2987    3372  \n",
       "2988    4273  \n",
       "2989    7291  \n",
       "2990    8102  \n",
       "2991    6400  \n",
       "2992    9921  \n",
       "2993    7860  \n",
       "2994    2500  \n",
       "2995    2693  \n",
       "2996    8614  \n",
       "2997    2371  \n",
       "2998    8100  \n",
       "2999    7225  \n",
       "\n",
       "[3000 rows x 11 columns]"
      ]
     },
     "execution_count": 161,
     "metadata": {},
     "output_type": "execute_result"
    }
   ],
   "source": [
    "submit3.reset_index(drop=True)"
   ]
  },
  {
   "cell_type": "code",
   "execution_count": 162,
   "metadata": {
    "collapsed": true,
    "deletable": true,
    "editable": true
   },
   "outputs": [],
   "source": [
    "submit3.to_csv(\"third_sub.csv\",index=False)"
   ]
  },
  {
   "cell_type": "markdown",
   "metadata": {
    "collapsed": true,
    "deletable": true,
    "editable": true
   },
   "source": [
    "### Hypothesis : Take 2013 details score : 0.08625"
   ]
  },
  {
   "cell_type": "code",
   "execution_count": 178,
   "metadata": {
    "collapsed": false,
    "deletable": true,
    "editable": true
   },
   "outputs": [],
   "source": [
    "train_2013 = train.loc[train['record_age']<=365]"
   ]
  },
  {
   "cell_type": "code",
   "execution_count": 170,
   "metadata": {
    "collapsed": false,
    "deletable": true,
    "editable": true
   },
   "outputs": [],
   "source": [
    "PID_left = np.setdiff1d(train.PID,train_2013.PID)\n",
    "train_2013_left_ids = train.loc[train['PID'].isin(PID_left)]"
   ]
  },
  {
   "cell_type": "code",
   "execution_count": 173,
   "metadata": {
    "collapsed": false,
    "deletable": true,
    "editable": true
   },
   "outputs": [],
   "source": [
    "train_latest = pd.concat([train_2013,train_2013_left_ids],axis=0)"
   ]
  },
  {
   "cell_type": "code",
   "execution_count": 174,
   "metadata": {
    "collapsed": false,
    "deletable": true,
    "editable": true
   },
   "outputs": [
    {
     "data": {
      "text/plain": [
       "3000"
      ]
     },
     "execution_count": 174,
     "metadata": {},
     "output_type": "execute_result"
    }
   ],
   "source": [
    "len(train_latest.PID.unique())"
   ]
  },
  {
   "cell_type": "code",
   "execution_count": 175,
   "metadata": {
    "collapsed": true,
    "deletable": true,
    "editable": true
   },
   "outputs": [],
   "source": [
    "train_latest_crosstab = pd.crosstab(index=train_latest['PID'],columns=train_latest['Event'])\n"
   ]
  },
  {
   "cell_type": "code",
   "execution_count": 176,
   "metadata": {
    "collapsed": true,
    "deletable": true,
    "editable": true
   },
   "outputs": [],
   "source": [
    "submit4 = train_latest_crosstab.loc[:,train_latest_crosstab.columns != 'PID'].apply(lambda x: pd.Series(x.sort_values(ascending=False).iloc[:10].index, index=['Event'+str(x) for x in range(1,11)]),axis=1).reset_index()"
   ]
  },
  {
   "cell_type": "code",
   "execution_count": 177,
   "metadata": {
    "collapsed": true,
    "deletable": true,
    "editable": true
   },
   "outputs": [],
   "source": [
    "submit4.to_csv('fourth_submit.csv',index=False)"
   ]
  },
  {
   "cell_type": "markdown",
   "metadata": {
    "deletable": true,
    "editable": true
   },
   "source": [
    "### Hypothesis : Take last six months the score : 0.08897 add filtering for missing ids to be within last 2.57 years score becomes 0.08979 , change six months threshold to 250 days gives score of 0.09321"
   ]
  },
  {
   "cell_type": "code",
   "execution_count": 453,
   "metadata": {
    "collapsed": true,
    "deletable": true,
    "editable": true
   },
   "outputs": [],
   "source": [
    "train_six_months = train.loc[train['record_age']<=300]"
   ]
  },
  {
   "cell_type": "code",
   "execution_count": 454,
   "metadata": {
    "collapsed": true,
    "deletable": true,
    "editable": true
   },
   "outputs": [],
   "source": [
    "PID_left_six = np.setdiff1d(train.PID,train_six_months.PID)\n",
    "train_six_left_ids = train.loc[(train['PID'].isin(PID_left_six)) & (train['record_age']<=1010)]"
   ]
  },
  {
   "cell_type": "code",
   "execution_count": 455,
   "metadata": {
    "collapsed": false,
    "deletable": true,
    "editable": true
   },
   "outputs": [],
   "source": [
    "train_six = pd.concat([train_six_months,train_six_left_ids],axis=0)"
   ]
  },
  {
   "cell_type": "code",
   "execution_count": 456,
   "metadata": {
    "collapsed": false,
    "deletable": true,
    "editable": true
   },
   "outputs": [
    {
     "data": {
      "text/plain": [
       "3000"
      ]
     },
     "execution_count": 456,
     "metadata": {},
     "output_type": "execute_result"
    }
   ],
   "source": [
    "len(train_six.PID.unique())"
   ]
  },
  {
   "cell_type": "code",
   "execution_count": 457,
   "metadata": {
    "collapsed": true,
    "deletable": true,
    "editable": true
   },
   "outputs": [],
   "source": [
    "train_six_crosstab = pd.crosstab(index=train_six['PID'],columns=train_six['Event'])\n"
   ]
  },
  {
   "cell_type": "code",
   "execution_count": 458,
   "metadata": {
    "collapsed": true,
    "deletable": true,
    "editable": true
   },
   "outputs": [],
   "source": [
    "submit5 = train_six_crosstab.loc[:,train_six_crosstab.columns != 'PID'].apply(lambda x: pd.Series(x.sort_values(ascending=False).iloc[:10].index, index=['Event'+str(x) for x in range(1,11)]),axis=1).reset_index()"
   ]
  },
  {
   "cell_type": "code",
   "execution_count": 459,
   "metadata": {
    "collapsed": true,
    "deletable": true,
    "editable": true
   },
   "outputs": [],
   "source": [
    "submit5.to_csv('twelve_submit.csv',index=False)"
   ]
  },
  {
   "cell_type": "markdown",
   "metadata": {
    "deletable": true,
    "editable": true
   },
   "source": [
    "### Hypothesis : Last six months in original order score: 0.00025"
   ]
  },
  {
   "cell_type": "code",
   "execution_count": 210,
   "metadata": {
    "collapsed": true,
    "deletable": true,
    "editable": true
   },
   "outputs": [],
   "source": [
    "train_six_months_order = train.loc[train['record_age']<=180]\n",
    "PID_left_six_order = np.setdiff1d(train.PID,train_six_months_order.PID)\n",
    "train_six_order_left_ids = train.loc[train['PID'].isin(PID_left_six)]\n",
    "train_six_order = pd.concat([train_six_months_order,train_six_order_left_ids],axis=0)"
   ]
  },
  {
   "cell_type": "code",
   "execution_count": 211,
   "metadata": {
    "collapsed": false,
    "deletable": true,
    "editable": true
   },
   "outputs": [
    {
     "data": {
      "text/plain": [
       "3000"
      ]
     },
     "execution_count": 211,
     "metadata": {},
     "output_type": "execute_result"
    }
   ],
   "source": [
    "len(train_six_order.PID.unique())"
   ]
  },
  {
   "cell_type": "code",
   "execution_count": 212,
   "metadata": {
    "collapsed": true,
    "deletable": true,
    "editable": true
   },
   "outputs": [],
   "source": [
    "train_six_order_crosstab = pd.crosstab(index=train_six_order['PID'],columns=train_six_order['Event'])\n"
   ]
  },
  {
   "cell_type": "code",
   "execution_count": 217,
   "metadata": {
    "collapsed": true,
    "deletable": true,
    "editable": true
   },
   "outputs": [],
   "source": [
    "submit6 = train_six_order_crosstab.loc[:,train_six_order_crosstab.columns != 'PID'].apply(lambda x: pd.Series(x.iloc[-10:].index, index=['Event'+str(x) for x in range(1,11)]),axis=1).reset_index()"
   ]
  },
  {
   "cell_type": "code",
   "execution_count": 218,
   "metadata": {
    "collapsed": true,
    "deletable": true,
    "editable": true
   },
   "outputs": [],
   "source": [
    "submit6.to_csv('six_submit.csv',index=False)"
   ]
  },
  {
   "cell_type": "markdown",
   "metadata": {
    "deletable": true,
    "editable": true
   },
   "source": [
    "### Hypothesis: Last two months score : 0.07066 Not Able to Catch the pattern properly"
   ]
  },
  {
   "cell_type": "code",
   "execution_count": 200,
   "metadata": {
    "collapsed": true,
    "deletable": true,
    "editable": true
   },
   "outputs": [],
   "source": [
    "train_two_months = train.loc[train['record_age']<=60]"
   ]
  },
  {
   "cell_type": "code",
   "execution_count": 201,
   "metadata": {
    "collapsed": false,
    "deletable": true,
    "editable": true
   },
   "outputs": [
    {
     "data": {
      "text/plain": [
       "2102"
      ]
     },
     "execution_count": 201,
     "metadata": {},
     "output_type": "execute_result"
    }
   ],
   "source": [
    "len(train_two_months.PID.unique())"
   ]
  },
  {
   "cell_type": "code",
   "execution_count": 202,
   "metadata": {
    "collapsed": true,
    "deletable": true,
    "editable": true
   },
   "outputs": [],
   "source": [
    "pid_left_two_months = np.setdiff1d(train.PID,train_two_months.PID)"
   ]
  },
  {
   "cell_type": "code",
   "execution_count": 204,
   "metadata": {
    "collapsed": false,
    "deletable": true,
    "editable": true
   },
   "outputs": [],
   "source": [
    "train_two_months_left = train.loc[train['PID'].isin(pid_left_two_months)]"
   ]
  },
  {
   "cell_type": "code",
   "execution_count": 205,
   "metadata": {
    "collapsed": true,
    "deletable": true,
    "editable": true
   },
   "outputs": [],
   "source": [
    "train_two = pd.concat([train_two_months,train_two_months_left],axis=0)"
   ]
  },
  {
   "cell_type": "code",
   "execution_count": 206,
   "metadata": {
    "collapsed": false,
    "deletable": true,
    "editable": true
   },
   "outputs": [
    {
     "data": {
      "text/plain": [
       "3000"
      ]
     },
     "execution_count": 206,
     "metadata": {},
     "output_type": "execute_result"
    }
   ],
   "source": [
    "len(train_two.PID.unique())"
   ]
  },
  {
   "cell_type": "code",
   "execution_count": 207,
   "metadata": {
    "collapsed": true,
    "deletable": true,
    "editable": true
   },
   "outputs": [],
   "source": [
    "train_two_crosstab = pd.crosstab(index=train_two['PID'],columns=train_two['Event'])\n"
   ]
  },
  {
   "cell_type": "code",
   "execution_count": 208,
   "metadata": {
    "collapsed": true,
    "deletable": true,
    "editable": true
   },
   "outputs": [],
   "source": [
    "submit7 = train_two_crosstab.loc[:,train_two_crosstab.columns != 'PID'].apply(lambda x: pd.Series(x.sort_values(ascending=False).iloc[:10].index, index=['Event'+str(x) for x in range(1,11)]),axis=1).reset_index()"
   ]
  },
  {
   "cell_type": "code",
   "execution_count": 209,
   "metadata": {
    "collapsed": true,
    "deletable": true,
    "editable": true
   },
   "outputs": [],
   "source": [
    "submit7.to_csv('seven_submit.csv',index=False)"
   ]
  },
  {
   "cell_type": "markdown",
   "metadata": {
    "deletable": true,
    "editable": true
   },
   "source": [
    "### Hypothesis Multiple Rules based on Record availability for time periods : 6months,23 months and 33 months score 0.08919 probably what Pavleen Tried"
   ]
  },
  {
   "cell_type": "code",
   "execution_count": 407,
   "metadata": {
    "collapsed": false,
    "deletable": true,
    "editable": true
   },
   "outputs": [],
   "source": [
    "train_6 = train.loc[train['record_age']<=180]"
   ]
  },
  {
   "cell_type": "code",
   "execution_count": 408,
   "metadata": {
    "collapsed": false,
    "deletable": true,
    "editable": true
   },
   "outputs": [
    {
     "name": "stdout",
     "output_type": "stream",
     "text": [
      "185\n"
     ]
    }
   ],
   "source": [
    "missing_ids_6 = np.setdiff1d(train.PID,train_6.PID)\n",
    "print len(missing_ids_6)\n",
    "missing_values = train[train.PID.isin(missing_ids_6)]"
   ]
  },
  {
   "cell_type": "code",
   "execution_count": 409,
   "metadata": {
    "collapsed": true,
    "deletable": true,
    "editable": true
   },
   "outputs": [],
   "source": [
    "train_23 = train.loc[(train['record_age']<=700)&train['PID'].isin(missing_ids_6)]"
   ]
  },
  {
   "cell_type": "code",
   "execution_count": 410,
   "metadata": {
    "collapsed": false,
    "deletable": true,
    "editable": true
   },
   "outputs": [],
   "source": [
    "missing_ids_23 = np.setdiff1d(missing_ids_6,train_23.PID)"
   ]
  },
  {
   "cell_type": "code",
   "execution_count": 411,
   "metadata": {
    "collapsed": false,
    "deletable": true,
    "editable": true
   },
   "outputs": [
    {
     "data": {
      "text/plain": [
       "3"
      ]
     },
     "execution_count": 411,
     "metadata": {},
     "output_type": "execute_result"
    }
   ],
   "source": [
    "len(missing_ids_23)"
   ]
  },
  {
   "cell_type": "code",
   "execution_count": 412,
   "metadata": {
    "collapsed": true,
    "deletable": true,
    "editable": true
   },
   "outputs": [],
   "source": [
    "train_27 = train.loc[(train['record_age']<=1010)&train['PID'].isin(missing_ids_23)]"
   ]
  },
  {
   "cell_type": "code",
   "execution_count": 413,
   "metadata": {
    "collapsed": true,
    "deletable": true,
    "editable": true
   },
   "outputs": [],
   "source": [
    "train_multi_rule = pd.concat([train_6,train_23,train_27],axis=0)"
   ]
  },
  {
   "cell_type": "code",
   "execution_count": 414,
   "metadata": {
    "collapsed": false,
    "deletable": true,
    "editable": true
   },
   "outputs": [
    {
     "data": {
      "text/plain": [
       "3000"
      ]
     },
     "execution_count": 414,
     "metadata": {},
     "output_type": "execute_result"
    }
   ],
   "source": [
    "len(train_multi_rule.PID.unique())"
   ]
  },
  {
   "cell_type": "code",
   "execution_count": 415,
   "metadata": {
    "collapsed": true,
    "deletable": true,
    "editable": true
   },
   "outputs": [],
   "source": [
    "train_multi_crosstab = pd.crosstab(index=train_multi_rule['PID'], columns=train_multi_rule.Event)"
   ]
  },
  {
   "cell_type": "code",
   "execution_count": 416,
   "metadata": {
    "collapsed": true,
    "deletable": true,
    "editable": true
   },
   "outputs": [],
   "source": [
    "submit8 = train_multi_crosstab.loc[:,train_multi_crosstab.columns != 'PID'].apply(lambda x: pd.Series(x.sort_values(ascending=False).iloc[:10].index, index=['Event'+str(x) for x in range(1,11)]),axis=1).reset_index()"
   ]
  },
  {
   "cell_type": "code",
   "execution_count": 417,
   "metadata": {
    "collapsed": true,
    "deletable": true,
    "editable": true
   },
   "outputs": [],
   "source": [
    "submit8.to_csv(\"eight_sub.csv\",index=False)"
   ]
  },
  {
   "cell_type": "markdown",
   "metadata": {
    "deletable": true,
    "editable": true
   },
   "source": [
    "### Hypothesis increase to ten months and for others same approach score 0.08863"
   ]
  },
  {
   "cell_type": "code",
   "execution_count": 285,
   "metadata": {
    "collapsed": true,
    "deletable": true,
    "editable": true
   },
   "outputs": [],
   "source": [
    "train_10 = train.loc[train['record_age']<=300]"
   ]
  },
  {
   "cell_type": "code",
   "execution_count": 286,
   "metadata": {
    "collapsed": false,
    "deletable": true,
    "editable": true
   },
   "outputs": [],
   "source": [
    "missing_ids_10 = np.setdiff1d(train.PID,train_x.PID)"
   ]
  },
  {
   "cell_type": "code",
   "execution_count": 287,
   "metadata": {
    "collapsed": true,
    "deletable": true,
    "editable": true
   },
   "outputs": [],
   "source": [
    "train_missing_10 = train.loc[train['PID'].isin(missing_ids_10)]"
   ]
  },
  {
   "cell_type": "code",
   "execution_count": 288,
   "metadata": {
    "collapsed": false,
    "deletable": true,
    "editable": true
   },
   "outputs": [],
   "source": [
    "train_10_final = pd.concat([train_10,train_missing_10],axis=0)"
   ]
  },
  {
   "cell_type": "code",
   "execution_count": 289,
   "metadata": {
    "collapsed": false,
    "deletable": true,
    "editable": true
   },
   "outputs": [
    {
     "data": {
      "text/plain": [
       "3000"
      ]
     },
     "execution_count": 289,
     "metadata": {},
     "output_type": "execute_result"
    }
   ],
   "source": [
    "len(train_10_final.PID.unique())"
   ]
  },
  {
   "cell_type": "code",
   "execution_count": 290,
   "metadata": {
    "collapsed": true,
    "deletable": true,
    "editable": true
   },
   "outputs": [],
   "source": [
    "train_10_crosstab = pd.crosstab(index=train_10_final.PID, columns=train_10_final.Event)"
   ]
  },
  {
   "cell_type": "code",
   "execution_count": 291,
   "metadata": {
    "collapsed": true,
    "deletable": true,
    "editable": true
   },
   "outputs": [],
   "source": [
    "submit9 = train_10_crosstab.loc[:,train_10_crosstab.columns != 'PID'].apply(lambda x: pd.Series(x.sort_values(ascending=False).iloc[:10].index, index=['Event'+str(x) for x in range(1,11)]),axis=1).reset_index()"
   ]
  },
  {
   "cell_type": "code",
   "execution_count": 292,
   "metadata": {
    "collapsed": true,
    "deletable": true,
    "editable": true
   },
   "outputs": [],
   "source": [
    "submit9.to_csv('nine_sub.csv',index=False)"
   ]
  },
  {
   "cell_type": "markdown",
   "metadata": {},
   "source": [
    "### Hypothesis : Take every user's last 50 records for predicting score : 0.06904"
   ]
  },
  {
   "cell_type": "code",
   "execution_count": 336,
   "metadata": {
    "collapsed": false
   },
   "outputs": [],
   "source": [
    "record_count = train.PID.value_counts()"
   ]
  },
  {
   "cell_type": "code",
   "execution_count": 342,
   "metadata": {
    "collapsed": false
   },
   "outputs": [
    {
     "data": {
      "text/plain": [
       "count    3000.000000\n",
       "mean      255.595667\n",
       "std       237.081149\n",
       "min        11.000000\n",
       "25%       119.000000\n",
       "50%       182.000000\n",
       "75%       312.000000\n",
       "max      2476.000000\n",
       "Name: PID, dtype: float64"
      ]
     },
     "execution_count": 342,
     "metadata": {},
     "output_type": "execute_result"
    }
   ],
   "source": [
    "train.PID.value_counts().describe()"
   ]
  },
  {
   "cell_type": "code",
   "execution_count": 338,
   "metadata": {
    "collapsed": false
   },
   "outputs": [
    {
     "data": {
      "text/plain": [
       "0    121\n",
       "1    131\n",
       "dtype: int64"
      ]
     },
     "execution_count": 338,
     "metadata": {},
     "output_type": "execute_result"
    }
   ],
   "source": [
    "train.PID.value_counts().mode()"
   ]
  },
  {
   "cell_type": "code",
   "execution_count": 357,
   "metadata": {
    "collapsed": false
   },
   "outputs": [],
   "source": [
    "train['record_count'] = train.PID.apply(lambda x: record_count[x])"
   ]
  },
  {
   "cell_type": "code",
   "execution_count": 358,
   "metadata": {
    "collapsed": false
   },
   "outputs": [
    {
     "data": {
      "text/plain": [
       "106"
      ]
     },
     "execution_count": 358,
     "metadata": {},
     "output_type": "execute_result"
    }
   ],
   "source": [
    "len(train.loc[train['record_count']<50].PID.unique())"
   ]
  },
  {
   "cell_type": "code",
   "execution_count": 402,
   "metadata": {
    "collapsed": true
   },
   "outputs": [],
   "source": [
    "train_by_pid = train.groupby('PID')\n",
    "train_last_50 = train_by_pid.tail(500)"
   ]
  },
  {
   "cell_type": "code",
   "execution_count": 403,
   "metadata": {
    "collapsed": false
   },
   "outputs": [
    {
     "data": {
      "text/plain": [
       "3000"
      ]
     },
     "execution_count": 403,
     "metadata": {},
     "output_type": "execute_result"
    }
   ],
   "source": [
    "len(train_last_50.PID.unique())"
   ]
  },
  {
   "cell_type": "code",
   "execution_count": 404,
   "metadata": {
    "collapsed": false
   },
   "outputs": [],
   "source": [
    "train_group_crosstab = pd.crosstab(index=train_last_50['PID'],columns=train_last_50['Event'])"
   ]
  },
  {
   "cell_type": "code",
   "execution_count": 405,
   "metadata": {
    "collapsed": true
   },
   "outputs": [],
   "source": [
    "submit10 = train_group_crosstab.loc[:,train_group_crosstab.columns != 'PID'].apply(lambda x: pd.Series(x.sort_values(ascending=False).iloc[:10].index, index=['Event'+str(x) for x in range(1,11)]),axis=1).reset_index()"
   ]
  },
  {
   "cell_type": "code",
   "execution_count": 406,
   "metadata": {
    "collapsed": true
   },
   "outputs": [],
   "source": [
    "submit10.to_csv('submit10.csv',index=False)"
   ]
  },
  {
   "cell_type": "code",
   "execution_count": null,
   "metadata": {
    "collapsed": true
   },
   "outputs": [],
   "source": []
  }
 ],
 "metadata": {
  "kernelspec": {
   "display_name": "Python 2",
   "language": "python",
   "name": "python2"
  },
  "language_info": {
   "codemirror_mode": {
    "name": "ipython",
    "version": 2
   },
   "file_extension": ".py",
   "mimetype": "text/x-python",
   "name": "python",
   "nbconvert_exporter": "python",
   "pygments_lexer": "ipython2",
   "version": "2.7.12"
  }
 },
 "nbformat": 4,
 "nbformat_minor": 2
}
