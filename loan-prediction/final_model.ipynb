{
 "cells": [
  {
   "cell_type": "code",
   "execution_count": 1,
   "metadata": {
    "collapsed": true,
    "deletable": true,
    "editable": true
   },
   "outputs": [],
   "source": [
    "import numpy as np\n",
    "import pandas as pd"
   ]
  },
  {
   "cell_type": "code",
   "execution_count": 2,
   "metadata": {
    "collapsed": true,
    "deletable": true,
    "editable": true
   },
   "outputs": [],
   "source": [
    "train = pd.read_csv('train.csv')\n",
    "test = pd.read_csv('test.csv')\n",
    "sample = pd.read_csv('sample_submission.csv')"
   ]
  },
  {
   "cell_type": "code",
   "execution_count": 3,
   "metadata": {
    "collapsed": false,
    "deletable": true,
    "editable": true
   },
   "outputs": [
    {
     "data": {
      "text/html": [
       "<div>\n",
       "<table border=\"1\" class=\"dataframe\">\n",
       "  <thead>\n",
       "    <tr style=\"text-align: right;\">\n",
       "      <th></th>\n",
       "      <th>Loan_ID</th>\n",
       "      <th>Loan_Status</th>\n",
       "    </tr>\n",
       "  </thead>\n",
       "  <tbody>\n",
       "  </tbody>\n",
       "</table>\n",
       "</div>"
      ],
      "text/plain": [
       "Empty DataFrame\n",
       "Columns: [Loan_ID, Loan_Status]\n",
       "Index: []"
      ]
     },
     "execution_count": 3,
     "metadata": {},
     "output_type": "execute_result"
    }
   ],
   "source": [
    "sample.head()"
   ]
  },
  {
   "cell_type": "markdown",
   "metadata": {
    "deletable": true,
    "editable": true
   },
   "source": [
    "## Missing Value Treatment"
   ]
  },
  {
   "cell_type": "code",
   "execution_count": 4,
   "metadata": {
    "collapsed": false,
    "deletable": true,
    "editable": true
   },
   "outputs": [
    {
     "data": {
      "text/plain": [
       "Loan_ID               0\n",
       "Gender               11\n",
       "Married               0\n",
       "Dependents           10\n",
       "Education             0\n",
       "Self_Employed        23\n",
       "ApplicantIncome       0\n",
       "CoapplicantIncome     0\n",
       "LoanAmount            5\n",
       "Loan_Amount_Term      6\n",
       "Credit_History       29\n",
       "Property_Area         0\n",
       "dtype: int64"
      ]
     },
     "execution_count": 4,
     "metadata": {},
     "output_type": "execute_result"
    }
   ],
   "source": [
    "test.isnull().sum()"
   ]
  },
  {
   "cell_type": "code",
   "execution_count": 5,
   "metadata": {
    "collapsed": true,
    "deletable": true,
    "editable": true
   },
   "outputs": [],
   "source": [
    "#Impute Gender with mode\n",
    "train.Gender.fillna(train.Gender.mode()[0], inplace=True)\n",
    "test.Gender.fillna(test.Gender.mode()[0], inplace=True)\n",
    "\n",
    "#Impute Marital status with mode\n",
    "train.Married.fillna(train.Married.mode()[0], inplace=True)\n",
    "test.Married.fillna(test.Married.mode()[0], inplace=True)\n",
    "\n",
    "#Impute Depenedents with mode\n",
    "train.Dependents.fillna(train.Dependents.mode()[0], inplace=True)\n",
    "test.Dependents.fillna(test.Dependents.mode()[0], inplace=True)\n",
    "\n",
    "#Impute Self_Employeed with mode\n",
    "train.Self_Employed.fillna(train.Self_Employed.mode()[0], inplace=True)\n",
    "test.Self_Employed.fillna(test.Self_Employed.mode()[0], inplace=True)\n",
    "\n",
    "#Impute Loan Ammount by mean\n",
    "train.LoanAmount.fillna(train.LoanAmount.mean(), inplace=True)\n",
    "test.LoanAmount.fillna(test.LoanAmount.mean(), inplace=True)\n",
    "\n",
    "#Impute Loan_Amount_Term by mode\n",
    "train.Loan_Amount_Term.fillna(train.Loan_Amount_Term.mode()[0], inplace=True)\n",
    "test.Loan_Amount_Term.fillna(test.Loan_Amount_Term.mode()[0], inplace=True)\n",
    "\n",
    "#Impute Credit_History with mode\n",
    "train.Credit_History.fillna(train.Credit_History.mode()[0], inplace=True)\n",
    "test.Credit_History.fillna(test.Credit_History.mode()[0], inplace=True)"
   ]
  },
  {
   "cell_type": "markdown",
   "metadata": {
    "deletable": true,
    "editable": true
   },
   "source": [
    "## Label Encoding"
   ]
  },
  {
   "cell_type": "code",
   "execution_count": 6,
   "metadata": {
    "collapsed": false,
    "deletable": true,
    "editable": true
   },
   "outputs": [],
   "source": [
    "from sklearn.preprocessing import LabelEncoder\n",
    "\n",
    "labelencoder = LabelEncoder()\n",
    "\n",
    "#LE\n",
    "train.Gender = labelencoder.fit_transform(train.Gender)\n",
    "train.Dependents = labelencoder.fit_transform(train.Dependents)\n",
    "# train.Property_Area = labelencoder.fit_transform(train.Property_Area)\n",
    "# train.Education = labelencoder.fit_transform(train.Education)\n",
    "# train.Self_Employed = labelencoder.fit_transform(train.Self_Employed)\n",
    "\n",
    "\n",
    "test.Gender = labelencoder.fit_transform(test.Gender)\n",
    "test.Dependents = labelencoder.fit_transform(test.Dependents)\n",
    "# test.Property_Area = labelencoder.fit_transform(test.Property_Area)\n",
    "# test.Education = labelencoder.fit_transform(test.Education)\n",
    "# test.Self_Employed = labelencoder.fit_transform(test.Self_Employed)"
   ]
  },
  {
   "cell_type": "markdown",
   "metadata": {
    "deletable": true,
    "editable": true
   },
   "source": [
    "## Setting Correct Dtypes"
   ]
  },
  {
   "cell_type": "code",
   "execution_count": 7,
   "metadata": {
    "collapsed": true,
    "deletable": true,
    "editable": true
   },
   "outputs": [],
   "source": [
    "# Setting Dependents and Credit history as categorical\n",
    "train.Dependents = train.Dependents.astype(np.object)\n",
    "train.Gender = train.Gender.astype(np.object)\n",
    "# train.Education = train.Education.astype(np.object)\n",
    "# train.Self_Employed = train.Self_Employed.astype(np.object)\n",
    "train.Credit_History = train.Credit_History.astype(np.object)\n",
    "# train.Property_Area = train.Property_Area.astype(np.object)\n",
    "\n",
    "\n",
    "test.Dependents = test.Dependents.astype(np.object)\n",
    "test.Gender = test.Gender.astype(np.object)\n",
    "# test.Property_Area = test.Property_Area.astype(np.object)\n",
    "# test.Education = test.Education.astype(np.object)\n",
    "# test.Self_Employed = test.Self_Employed.astype(np.object)\n",
    "test.Credit_History = test.Credit_History.astype(np.object)"
   ]
  },
  {
   "cell_type": "markdown",
   "metadata": {
    "deletable": true,
    "editable": true
   },
   "source": [
    "## Random Forest Model"
   ]
  },
  {
   "cell_type": "code",
   "execution_count": 8,
   "metadata": {
    "collapsed": false,
    "deletable": true,
    "editable": true
   },
   "outputs": [],
   "source": [
    "from sklearn.ensemble import RandomForestClassifier\n",
    "\n",
    "features = ['ApplicantIncome', 'CoapplicantIncome', 'LoanAmount', 'Credit_History',\\\n",
    "            'Loan_Amount_Term', 'Gender', 'Dependents'] \n",
    "\n",
    "\n",
    "rfmodel = RandomForestClassifier(n_jobs = -1, max_depth=8, n_estimators=100, oob_score=True)\n",
    "rfmodel = rfmodel.fit(train[features],train.Loan_Status)\n",
    "rfpred = rfmodel.predict(test[features])"
   ]
  },
  {
   "cell_type": "markdown",
   "metadata": {
    "deletable": true,
    "editable": true
   },
   "source": [
    "## GBM Model"
   ]
  },
  {
   "cell_type": "code",
   "execution_count": 14,
   "metadata": {
    "collapsed": false,
    "deletable": true,
    "editable": true
   },
   "outputs": [],
   "source": [
    "from sklearn.ensemble import GradientBoostingClassifier\n",
    "\n",
    "\n",
    "gbmodel = GradientBoostingClassifier(max_features=0.1, max_depth=2, min_samples_leaf=0.05,\n",
    "                        subsample=0.8,n_estimators=100, learning_rate=0.05, min_samples_split=30)\n",
    "gbmodel = gbmodel.fit(train[features], train.Loan_Status)\n",
    "gbpredict = gbmodel.predict(test[features])"
   ]
  },
  {
   "cell_type": "markdown",
   "metadata": {
    "deletable": true,
    "editable": true
   },
   "source": [
    "## Submission "
   ]
  },
  {
   "cell_type": "code",
   "execution_count": 16,
   "metadata": {
    "collapsed": true,
    "deletable": true,
    "editable": true
   },
   "outputs": [],
   "source": [
    "outdf = pd.DataFrame({'Loan_ID':test.Loan_ID,'Loan_Status':rfpred})\n",
    "outdf.to_csv('sub00.csv')"
   ]
  },
  {
   "cell_type": "code",
   "execution_count": null,
   "metadata": {
    "collapsed": true
   },
   "outputs": [],
   "source": []
  }
 ],
 "metadata": {
  "kernelspec": {
   "display_name": "Python 2",
   "language": "python",
   "name": "python2"
  },
  "language_info": {
   "codemirror_mode": {
    "name": "ipython",
    "version": 2
   },
   "file_extension": ".py",
   "mimetype": "text/x-python",
   "name": "python",
   "nbconvert_exporter": "python",
   "pygments_lexer": "ipython2",
   "version": "2.7.12"
  }
 },
 "nbformat": 4,
 "nbformat_minor": 2
}
